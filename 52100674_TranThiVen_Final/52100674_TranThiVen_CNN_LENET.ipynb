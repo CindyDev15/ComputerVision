{
  "nbformat": 4,
  "nbformat_minor": 0,
  "metadata": {
    "colab": {
      "provenance": []
    },
    "kernelspec": {
      "name": "python3",
      "display_name": "Python 3"
    },
    "language_info": {
      "name": "python"
    }
  },
  "cells": [
    {
      "cell_type": "code",
      "source": [
        "import os\n",
        "import random\n",
        "import numpy as np\n",
        "import time\n",
        "import torch\n",
        "import torch.nn as nn\n",
        "import torch.optim as optim\n",
        "import torch.nn.functional as F\n",
        "import torch.utils.data as data\n",
        "import torchvision.transforms as transforms\n",
        "import torchvision.datasets as datasets\n",
        "from torchsummary import summary"
      ],
      "metadata": {
        "id": "C94FC2tsU4mv"
      },
      "execution_count": 5,
      "outputs": []
    },
    {
      "cell_type": "code",
      "source": [
        "import os\n",
        "# Kiểm tra và tạo thư mục nếu nó không tồn tại\n",
        "if not os.path.exists(save_model):\n",
        "    os.makedirs(save_model)\n",
        "# Lưu mô hình vào thư mục\n",
        "torch.save(lenet_model.state_dict(), os.path.join(save_model, 'lenet_model.pt'))"
      ],
      "metadata": {
        "id": "C8wyEDF8TG3D"
      },
      "execution_count": 6,
      "outputs": []
    },
    {
      "cell_type": "code",
      "source": [
        "# Tải dữ liệu\n",
        "ROOT = './data'\n",
        "train_data = datasets.MNIST(root=ROOT, train=True, download=True)\n",
        "test_data = datasets.MNIST(root=ROOT, train=False, download=True)"
      ],
      "metadata": {
        "id": "qzMjj08AU8Kc"
      },
      "execution_count": 7,
      "outputs": []
    },
    {
      "cell_type": "code",
      "source": [
        "# Tiền xử lý dữ liệu\n",
        "VALID_RATIO = 0.9\n",
        "\n",
        "n_train_examples = int(len(train_data) * VALID_RATIO)\n",
        "n_valid_examples = len(train_data) - n_train_examples\n",
        "\n",
        "train_data, valid_data = data.random_split(train_data, [n_train_examples, n_valid_examples])\n",
        "\n",
        "mean = train_data.dataset.data.float().mean() / 255\n",
        "std = train_data.dataset.data.float().std() / 255\n",
        "\n",
        "train_transforms = transforms.Compose([\n",
        "    transforms.ToTensor(),\n",
        "    transforms.Normalize(mean=[mean], std=[std])\n",
        "])\n",
        "\n",
        "test_transforms = transforms.Compose([\n",
        "    transforms.ToTensor(),\n",
        "    transforms.Normalize(mean=[mean], std=[std])\n",
        "])\n",
        "\n",
        "train_data.dataset.transform = train_transforms\n",
        "valid_data.dataset.transform = test_transforms\n",
        "\n",
        "BATCH_SIZE = 256\n",
        "\n",
        "train_dataloader = data.DataLoader(train_data, shuffle=True, batch_size=BATCH_SIZE)\n",
        "valid_dataloader = data.DataLoader(valid_data, batch_size=BATCH_SIZE)"
      ],
      "metadata": {
        "id": "e7CIIFU4U_jE"
      },
      "execution_count": 8,
      "outputs": []
    },
    {
      "cell_type": "code",
      "execution_count": 9,
      "metadata": {
        "id": "GpcRw1omSnFy"
      },
      "outputs": [],
      "source": [
        "# Xây dựng mô hình LeNet\n",
        "class LeNetClassifier(nn.Module):\n",
        "    def __init__(self, num_classes):\n",
        "        super().__init__()\n",
        "        self.conv1 = nn.Conv2d(in_channels=1, out_channels=6, kernel_size=5, padding=2)\n",
        "        self.avgpool1 = nn.AvgPool2d(kernel_size=2)\n",
        "        self.conv2 = nn.Conv2d(in_channels=6, out_channels=16, kernel_size=5)\n",
        "        self.avgpool2 = nn.AvgPool2d(kernel_size=2)\n",
        "        self.flatten = nn.Flatten()\n",
        "        self.fc_1 = nn.Linear(16 * 5 * 5, 120)\n",
        "        self.fc_2 = nn.Linear(120, 84)\n",
        "        self.fc_3 = nn.Linear(84, num_classes)\n",
        "\n",
        "    def forward(self, inputs):\n",
        "        outputs = self.conv1(inputs)\n",
        "        outputs = self.avgpool1(outputs)\n",
        "        outputs = F.relu(outputs)\n",
        "        outputs = self.conv2(outputs)\n",
        "        outputs = self.avgpool2(outputs)\n",
        "        outputs = F.relu(outputs)\n",
        "        outputs = self.flatten(outputs)\n",
        "        outputs = F.relu(self.fc_1(outputs))\n",
        "        outputs = F.relu(self.fc_2(outputs))\n",
        "        outputs = self.fc_3(outputs)\n",
        "        return outputs"
      ]
    },
    {
      "cell_type": "code",
      "source": [
        "# Huấn luyện mô hình\n",
        "def train(model, optimizer, criterion, train_dataloader, device, epoch=0, log_interval=50):\n",
        "    model.train()\n",
        "    total_acc, total_count = 0, 0\n",
        "    losses = []\n",
        "    start_time = time.time()\n",
        "\n",
        "    for idx, (inputs, labels) in enumerate(train_dataloader):\n",
        "        inputs = inputs.to(device)\n",
        "        labels = labels.to(device)\n",
        "\n",
        "        optimizer.zero_grad()\n",
        "\n",
        "        predictions = model(inputs)\n",
        "\n",
        "        loss = criterion(predictions, labels)\n",
        "        losses.append(loss.item())\n",
        "\n",
        "        loss.backward()\n",
        "        torch.nn.utils.clip_grad_norm_(model.parameters(), 0.1)\n",
        "        optimizer.step()\n",
        "\n",
        "        total_acc += (predictions.argmax(1) == labels).sum().item()\n",
        "        total_count += labels.size(0)\n",
        "\n",
        "        if idx % log_interval == 0 and idx > 0:\n",
        "            elapsed = time.time() - start_time\n",
        "            print(\"| epoch {:3d} | {:5d}/{:5d} batches | accuracy {:8.3f}\".format(\n",
        "                epoch, idx, len(train_dataloader), total_acc / total_count\n",
        "            ))\n",
        "\n",
        "            total_acc, total_count = 0, 0\n",
        "            start_time = time.time()\n",
        "\n",
        "    epoch_acc = total_acc / total_count\n",
        "    epoch_loss = sum(losses) / len(losses)\n",
        "    return epoch_acc, epoch_loss\n",
        "\n",
        "# Đánh giá mô hình\n",
        "def evaluate(model, criterion, valid_dataloader):\n",
        "    model.eval()\n",
        "    total_acc, total_count = 0, 0\n",
        "    losses = []\n",
        "\n",
        "    with torch.no_grad():\n",
        "        for idx, (inputs, labels) in enumerate(valid_dataloader):\n",
        "            inputs = inputs.to(device)\n",
        "            labels = labels.to(device)\n",
        "\n",
        "            predictions = model(inputs)\n",
        "\n",
        "            loss = criterion(predictions, labels)\n",
        "            losses.append(loss.item())\n",
        "\n",
        "            total_acc += (predictions.argmax(1) == labels).sum().item()\n",
        "            total_count += labels.size(0)\n",
        "\n",
        "    epoch_acc = total_acc / total_count\n",
        "    epoch_loss = sum(losses) / len(losses)\n",
        "    return epoch_acc, epoch_loss"
      ],
      "metadata": {
        "id": "XHRrtxipVF8-"
      },
      "execution_count": 10,
      "outputs": []
    },
    {
      "cell_type": "code",
      "source": [
        "# Training\n",
        "num_classes = len(train_data.dataset.classes)\n",
        "device = torch.device('cuda' if torch.cuda.is_available() else 'cpu')\n",
        "\n",
        "lenet_model = LeNetClassifier(num_classes)\n",
        "lenet_model.to(device)\n",
        "\n",
        "criterion = nn.CrossEntropyLoss()\n",
        "optimizer = optim.Adam(lenet_model.parameters())\n",
        "\n",
        "num_epochs = 10\n",
        "save_model = './model'\n",
        "\n",
        "train_accs, train_losses = [], []\n",
        "eval_accs, eval_losses = [], []\n",
        "best_loss_eval = 100\n",
        "\n",
        "for epoch in range(1, num_epochs+1):\n",
        "    epoch_start_time = time.time()\n",
        "\n",
        "    # Training\n",
        "    train_acc, train_loss = train(lenet_model, optimizer, criterion, train_dataloader, device, epoch)\n",
        "    train_accs.append(train_acc)\n",
        "    train_losses.append(train_loss)\n",
        "\n",
        "    # Evaluation\n",
        "    eval_acc, eval_loss = evaluate(lenet_model, criterion, valid_dataloader)\n",
        "    eval_accs.append(eval_acc)\n",
        "    eval_losses.append(eval_loss)\n",
        "\n",
        "    # Save best model\n",
        "    if eval_loss < best_loss_eval:\n",
        "        torch.save(lenet_model.state_dict(), save_model + '/lenet_model.pt')\n",
        "\n",
        "    # Print loss, acc end epoch\n",
        "    print(\"-\" * 59)\n",
        "    print(\"| End of epoch {:3d} | Time: {:5.2f}s | Train Accuracy {:8.3f} | Train Loss {:8.3f} | Valid Accuracy {:8.3f} | Valid Loss {:8.3f} \".format(\n",
        "        epoch, time.time()- epoch_start_time, train_acc, train_loss, eval_acc, eval_loss\n",
        "    ))\n",
        "    print(\"-\" * 59)\n",
        "\n",
        "# Load best model\n",
        "lenet_model.load_state_dict(torch.load(save_model + '/lenet_model.pt'))\n",
        "lenet_model.eval()"
      ],
      "metadata": {
        "colab": {
          "base_uri": "https://localhost:8080/"
        },
        "id": "p1rHIJV7VMbU",
        "outputId": "9fb5ce2e-ebaa-4f5e-ad72-4e19a19101f0"
      },
      "execution_count": 11,
      "outputs": [
        {
          "output_type": "stream",
          "name": "stdout",
          "text": [
            "| epoch   1 |    50/  211 batches | accuracy    0.554\n",
            "| epoch   1 |   100/  211 batches | accuracy    0.864\n",
            "| epoch   1 |   150/  211 batches | accuracy    0.902\n",
            "| epoch   1 |   200/  211 batches | accuracy    0.928\n",
            "-----------------------------------------------------------\n",
            "| End of epoch   1 | Time: 27.86s | Train Accuracy    0.934 | Train Loss    0.603 | Valid Accuracy    0.935 | Valid Loss    0.205 \n",
            "-----------------------------------------------------------\n",
            "| epoch   2 |    50/  211 batches | accuracy    0.945\n",
            "| epoch   2 |   100/  211 batches | accuracy    0.955\n",
            "| epoch   2 |   150/  211 batches | accuracy    0.960\n",
            "| epoch   2 |   200/  211 batches | accuracy    0.963\n",
            "-----------------------------------------------------------\n",
            "| End of epoch   2 | Time: 28.59s | Train Accuracy    0.966 | Train Loss    0.148 | Valid Accuracy    0.966 | Valid Loss    0.105 \n",
            "-----------------------------------------------------------\n",
            "| epoch   3 |    50/  211 batches | accuracy    0.969\n",
            "| epoch   3 |   100/  211 batches | accuracy    0.970\n",
            "| epoch   3 |   150/  211 batches | accuracy    0.972\n",
            "| epoch   3 |   200/  211 batches | accuracy    0.976\n",
            "-----------------------------------------------------------\n",
            "| End of epoch   3 | Time: 28.09s | Train Accuracy    0.974 | Train Loss    0.091 | Valid Accuracy    0.976 | Valid Loss    0.082 \n",
            "-----------------------------------------------------------\n",
            "| epoch   4 |    50/  211 batches | accuracy    0.979\n",
            "| epoch   4 |   100/  211 batches | accuracy    0.978\n",
            "| epoch   4 |   150/  211 batches | accuracy    0.978\n",
            "| epoch   4 |   200/  211 batches | accuracy    0.978\n",
            "-----------------------------------------------------------\n",
            "| End of epoch   4 | Time: 27.66s | Train Accuracy    0.980 | Train Loss    0.070 | Valid Accuracy    0.980 | Valid Loss    0.063 \n",
            "-----------------------------------------------------------\n",
            "| epoch   5 |    50/  211 batches | accuracy    0.981\n",
            "| epoch   5 |   100/  211 batches | accuracy    0.983\n",
            "| epoch   5 |   150/  211 batches | accuracy    0.983\n",
            "| epoch   5 |   200/  211 batches | accuracy    0.984\n",
            "-----------------------------------------------------------\n",
            "| End of epoch   5 | Time: 27.73s | Train Accuracy    0.984 | Train Loss    0.057 | Valid Accuracy    0.980 | Valid Loss    0.061 \n",
            "-----------------------------------------------------------\n",
            "| epoch   6 |    50/  211 batches | accuracy    0.985\n",
            "| epoch   6 |   100/  211 batches | accuracy    0.984\n",
            "| epoch   6 |   150/  211 batches | accuracy    0.985\n",
            "| epoch   6 |   200/  211 batches | accuracy    0.986\n",
            "-----------------------------------------------------------\n",
            "| End of epoch   6 | Time: 28.24s | Train Accuracy    0.978 | Train Loss    0.049 | Valid Accuracy    0.980 | Valid Loss    0.062 \n",
            "-----------------------------------------------------------\n",
            "| epoch   7 |    50/  211 batches | accuracy    0.985\n",
            "| epoch   7 |   100/  211 batches | accuracy    0.985\n",
            "| epoch   7 |   150/  211 batches | accuracy    0.988\n",
            "| epoch   7 |   200/  211 batches | accuracy    0.987\n",
            "-----------------------------------------------------------\n",
            "| End of epoch   7 | Time: 28.39s | Train Accuracy    0.985 | Train Loss    0.043 | Valid Accuracy    0.984 | Valid Loss    0.051 \n",
            "-----------------------------------------------------------\n",
            "| epoch   8 |    50/  211 batches | accuracy    0.988\n",
            "| epoch   8 |   100/  211 batches | accuracy    0.988\n",
            "| epoch   8 |   150/  211 batches | accuracy    0.987\n",
            "| epoch   8 |   200/  211 batches | accuracy    0.988\n",
            "-----------------------------------------------------------\n",
            "| End of epoch   8 | Time: 27.74s | Train Accuracy    0.988 | Train Loss    0.038 | Valid Accuracy    0.985 | Valid Loss    0.054 \n",
            "-----------------------------------------------------------\n",
            "| epoch   9 |    50/  211 batches | accuracy    0.990\n",
            "| epoch   9 |   100/  211 batches | accuracy    0.990\n",
            "| epoch   9 |   150/  211 batches | accuracy    0.988\n",
            "| epoch   9 |   200/  211 batches | accuracy    0.989\n",
            "-----------------------------------------------------------\n",
            "| End of epoch   9 | Time: 27.75s | Train Accuracy    0.987 | Train Loss    0.034 | Valid Accuracy    0.980 | Valid Loss    0.070 \n",
            "-----------------------------------------------------------\n",
            "| epoch  10 |    50/  211 batches | accuracy    0.991\n",
            "| epoch  10 |   100/  211 batches | accuracy    0.991\n",
            "| epoch  10 |   150/  211 batches | accuracy    0.991\n",
            "| epoch  10 |   200/  211 batches | accuracy    0.988\n",
            "-----------------------------------------------------------\n",
            "| End of epoch  10 | Time: 27.78s | Train Accuracy    0.989 | Train Loss    0.030 | Valid Accuracy    0.986 | Valid Loss    0.045 \n",
            "-----------------------------------------------------------\n"
          ]
        },
        {
          "output_type": "execute_result",
          "data": {
            "text/plain": [
              "LeNetClassifier(\n",
              "  (conv1): Conv2d(1, 6, kernel_size=(5, 5), stride=(1, 1), padding=(2, 2))\n",
              "  (avgpool1): AvgPool2d(kernel_size=2, stride=2, padding=0)\n",
              "  (conv2): Conv2d(6, 16, kernel_size=(5, 5), stride=(1, 1))\n",
              "  (avgpool2): AvgPool2d(kernel_size=2, stride=2, padding=0)\n",
              "  (flatten): Flatten(start_dim=1, end_dim=-1)\n",
              "  (fc_1): Linear(in_features=400, out_features=120, bias=True)\n",
              "  (fc_2): Linear(in_features=120, out_features=84, bias=True)\n",
              "  (fc_3): Linear(in_features=84, out_features=10, bias=True)\n",
              ")"
            ]
          },
          "metadata": {},
          "execution_count": 11
        }
      ]
    },
    {
      "cell_type": "code",
      "source": [
        "# Đánh giá mô hình trên tập test\n",
        "test_data.transform = test_transforms\n",
        "test_dataloader = data.DataLoader(test_data, batch_size=BATCH_SIZE)\n",
        "\n",
        "test_acc, test_loss = evaluate(lenet_model, criterion, test_dataloader)\n",
        "print(\"Accuracy trên tập test:\", test_acc)"
      ],
      "metadata": {
        "colab": {
          "base_uri": "https://localhost:8080/"
        },
        "id": "9ugiZl1qVHf8",
        "outputId": "8b755bbd-eebb-41fb-8c5f-8e677e382a55"
      },
      "execution_count": 12,
      "outputs": [
        {
          "output_type": "stream",
          "name": "stdout",
          "text": [
            "Accuracy trên tập test: 0.9877\n"
          ]
        }
      ]
    }
  ]
}